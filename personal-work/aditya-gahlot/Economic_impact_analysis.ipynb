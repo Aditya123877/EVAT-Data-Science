{
 "cells": [
  {
   "cell_type": "markdown",
   "id": "ec9ac5ae-bb05-43b2-86db-5a4e83d6ee16",
   "metadata": {},
   "source": [
    "In this cell, I imported the essential libraries such as **pandas** for data handling, **numpy** for numerical operations, **nltk** and **TextBlob** for text processing and sentiment analysis, and various machine learning modules like **MultinomialNB** and **train_test_split** for classification tasks. These libraries will help me analyze and process data efficiently."
   ]
  },
  {
   "cell_type": "code",
   "execution_count": 1,
   "id": "62ce5069-e404-4fb3-a303-0e1cf12b9804",
   "metadata": {},
   "outputs": [],
   "source": [
    "import pandas as pd\n",
    "import numpy as np\n",
    "import nltk\n",
    "from textblob import TextBlob\n",
    "from sklearn.model_selection import train_test_split\n",
    "from sklearn.feature_extraction.text import CountVectorizer, TfidfVectorizer\n",
    "from sklearn.naive_bayes import MultinomialNB\n",
    "from sklearn.metrics import accuracy_score, classification_report\n",
    "\n"
   ]
  },
  {
   "cell_type": "markdown",
   "id": "b2342d86-a0e3-40a7-b767-3b197781238a",
   "metadata": {},
   "source": [
    "Here, I used Kaggle’s API to download the cars dataset by running a command to download the dataset **dhamur/cars-data**. This command automates the process of fetching the required data for the project."
   ]
  },
  {
   "cell_type": "code",
   "execution_count": 2,
   "id": "0e8281a1-7000-49dd-a039-fa9c092f3f5a",
   "metadata": {},
   "outputs": [
    {
     "name": "stdout",
     "output_type": "stream",
     "text": [
      "Dataset URL: https://www.kaggle.com/datasets/dhamur/cars-data\n",
      "License(s): CC0-1.0\n",
      "cars-data.zip: Skipping, found more recently modified local copy (use --force to force download)\n"
     ]
    }
   ],
   "source": [
    "!kaggle datasets download -d dhamur/cars-data"
   ]
  },
  {
   "cell_type": "markdown",
   "id": "80c61d62-4602-4b4d-adf3-3260ff0234ee",
   "metadata": {},
   "source": [
    "In this step, I extracted the downloaded dataset from the zip file and verified the files inside it by listing the contents. This is important to ensure that the data has been successfully downloaded and extracted."
   ]
  },
  {
   "cell_type": "code",
   "execution_count": 3,
   "id": "9e9020b9-5281-4853-a352-211572003e7a",
   "metadata": {},
   "outputs": [
    {
     "data": {
      "text/plain": [
       "['Cars 1.csv',\n",
       " 'cars.csv',\n",
       " 'Electric Car.csv',\n",
       " 'Electric Vehicle Population Data.csv',\n",
       " 'FEV data.xlsx']"
      ]
     },
     "execution_count": 3,
     "metadata": {},
     "output_type": "execute_result"
    }
   ],
   "source": [
    "import zipfile\n",
    "import os\n",
    "\n",
    "# Extract the dataset from the downloaded zip file\n",
    "with zipfile.ZipFile(\"cars-data.zip\", 'r') as zip_ref:\n",
    "    zip_ref.extractall(\"cars_data\")\n",
    "\n",
    "# List files to verify extraction\n",
    "os.listdir(\"cars_data\")\n"
   ]
  },
  {
   "cell_type": "markdown",
   "id": "f3b75f02-d88d-4212-b46b-92aef4ad987c",
   "metadata": {},
   "source": [
    "In this cell, I loaded multiple CSV files and one Excel file into pandas DataFrames. This allowed me to explore the structure of the datasets. I also displayed the first few rows of each DataFrame to understand their structure and ensure that they were correctly loaded."
   ]
  },
  {
   "cell_type": "code",
   "execution_count": 4,
   "id": "4d1aa13e-1257-4a9b-85a8-2b45aa59cef4",
   "metadata": {},
   "outputs": [
    {
     "name": "stdout",
     "output_type": "stream",
     "text": [
      "Files in the dataset: ['Cars 1.csv', 'cars.csv', 'Electric Car.csv', 'Electric Vehicle Population Data.csv', 'FEV data.xlsx']\n",
      "Data from file1.csv:\n",
      "   Dimensions.Height  Dimensions.Length  Dimensions.Width  \\\n",
      "0                140                143               202   \n",
      "1                140                143               202   \n",
      "2                140                143               202   \n",
      "3                140                143               202   \n",
      "4                140                143               202   \n",
      "\n",
      "  Engine Information.Driveline                Engine Information.Engine Type  \\\n",
      "0              All-wheel drive          Audi 3.2L 6 cylinder 250hp 236ft-lbs   \n",
      "1            Front-wheel drive  Audi 2.0L 4 cylinder 200 hp 207 ft-lbs Turbo   \n",
      "2            Front-wheel drive  Audi 2.0L 4 cylinder 200 hp 207 ft-lbs Turbo   \n",
      "3              All-wheel drive  Audi 2.0L 4 cylinder 200 hp 207 ft-lbs Turbo   \n",
      "4              All-wheel drive  Audi 2.0L 4 cylinder 200 hp 207 ft-lbs Turbo   \n",
      "\n",
      "   Engine Information.Hybrid  Engine Information.Number of Forward Gears  \\\n",
      "0                       True                                           6   \n",
      "1                       True                                           6   \n",
      "2                       True                                           6   \n",
      "3                       True                                           6   \n",
      "4                       True                                           6   \n",
      "\n",
      "  Engine Information.Transmission  Fuel Information.City mpg  \\\n",
      "0  6 Speed Automatic Select Shift                         18   \n",
      "1  6 Speed Automatic Select Shift                         22   \n",
      "2                  6 Speed Manual                         21   \n",
      "3  6 Speed Automatic Select Shift                         21   \n",
      "4  6 Speed Automatic Select Shift                         21   \n",
      "\n",
      "  Fuel Information.Fuel Type  Fuel Information.Highway mpg  \\\n",
      "0                   Gasoline                            25   \n",
      "1                   Gasoline                            28   \n",
      "2                   Gasoline                            30   \n",
      "3                   Gasoline                            28   \n",
      "4                   Gasoline                            28   \n",
      "\n",
      "  Identification.Classification           Identification.ID  \\\n",
      "0        Automatic transmission            2009 Audi A3 3.2   \n",
      "1        Automatic transmission       2009 Audi A3 2.0 T AT   \n",
      "2           Manual transmission          2009 Audi A3 2.0 T   \n",
      "3        Automatic transmission  2009 Audi A3 2.0 T Quattro   \n",
      "4        Automatic transmission  2009 Audi A3 2.0 T Quattro   \n",
      "\n",
      "  Identification.Make Identification.Model Year  Identification.Year  \\\n",
      "0                Audi              2009 Audi A3                 2009   \n",
      "1                Audi              2009 Audi A3                 2009   \n",
      "2                Audi              2009 Audi A3                 2009   \n",
      "3                Audi              2009 Audi A3                 2009   \n",
      "4                Audi              2009 Audi A3                 2009   \n",
      "\n",
      "   Engine Information.Engine Statistics.Horsepower  \\\n",
      "0                                              250   \n",
      "1                                              200   \n",
      "2                                              200   \n",
      "3                                              200   \n",
      "4                                              200   \n",
      "\n",
      "   Engine Information.Engine Statistics.Torque  \n",
      "0                                          236  \n",
      "1                                          207  \n",
      "2                                          207  \n",
      "3                                          207  \n",
      "4                                          207  \n",
      "Data from file2.csv:\n",
      "  Car;MPG;Cylinders;Displacement;Horsepower;Weight;Acceleration;Model;Origin\n",
      "0  STRING;DOUBLE;INT;DOUBLE;DOUBLE;DOUBLE;DOUBLE;...                        \n",
      "1  Chevrolet Chevelle Malibu;18.0;8;307.0;130.0;3...                        \n",
      "2  Buick Skylark 320;15.0;8;350.0;165.0;3693.;11....                        \n",
      "3  Plymouth Satellite;18.0;8;318.0;150.0;3436.;11...                        \n",
      "4  AMC Rebel SST;16.0;8;304.0;150.0;3433.;12.0;70;US                        \n",
      "Data from file3.csv:\n",
      "         Brand                          Model  AccelSec  TopSpeed_KmH  \\\n",
      "0       Tesla   Model 3 Long Range Dual Motor       4.6           233   \n",
      "1  Volkswagen                       ID.3 Pure      10.0           160   \n",
      "2    Polestar                               2       4.7           210   \n",
      "3         BMW                            iX3        6.8           180   \n",
      "4       Honda                              e        9.5           145   \n",
      "\n",
      "   Range_Km  Efficiency_WhKm FastCharge_KmH RapidCharge PowerTrain  \\\n",
      "0       450              161            940         Yes        AWD   \n",
      "1       270              167            250         Yes        RWD   \n",
      "2       400              181            620         Yes        AWD   \n",
      "3       360              206            560         Yes        RWD   \n",
      "4       170              168            190         Yes        RWD   \n",
      "\n",
      "     PlugType  BodyStyle Segment  Seats  PriceEuro  \n",
      "0  Type 2 CCS      Sedan       D      5      55480  \n",
      "1  Type 2 CCS  Hatchback       C      5      30000  \n",
      "2  Type 2 CCS   Liftback       D      5      56440  \n",
      "3  Type 2 CCS        SUV       D      5      68040  \n",
      "4  Type 2 CCS  Hatchback       B      4      32997  \n",
      "Data from file4.csv:\n",
      "   VIN (1-10)     County      City State  ZIP Code  Model Year        Make  \\\n",
      "0  1N4AZ0CP3E       King    RENTON    WA     98059        2014      NISSAN   \n",
      "1  1N4AZ1CP2J       King   REDMOND    WA     98053        2018      NISSAN   \n",
      "2  WBY1Z8C50H       King   SEATTLE    WA     98125        2017         BMW   \n",
      "3  5YJ3E1EA0J  Riverside  WILDOMAR    CA     92595        2018       TESLA   \n",
      "4  WVWPR7AU6K       King    AUBURN    WA     98092        2019  VOLKSWAGEN   \n",
      "\n",
      "     Model                   Electric Vehicle Type  \\\n",
      "0     LEAF          Battery Electric Vehicle (BEV)   \n",
      "1     LEAF          Battery Electric Vehicle (BEV)   \n",
      "2       I3  Plug-in Hybrid Electric Vehicle (PHEV)   \n",
      "3  MODEL 3          Battery Electric Vehicle (BEV)   \n",
      "4   E-GOLF          Battery Electric Vehicle (BEV)   \n",
      "\n",
      "  Clean Alternative Fuel Vehicle (CAFV) Eligibility  Electric Range  \\\n",
      "0           Clean Alternative Fuel Vehicle Eligible              84   \n",
      "1           Clean Alternative Fuel Vehicle Eligible             151   \n",
      "2           Clean Alternative Fuel Vehicle Eligible              97   \n",
      "3           Clean Alternative Fuel Vehicle Eligible             215   \n",
      "4           Clean Alternative Fuel Vehicle Eligible             125   \n",
      "\n",
      "   Base MSRP  Legislative District  DOL Vehicle ID  \\\n",
      "0          0                   5.0       250845815   \n",
      "1          0                  45.0       309178936   \n",
      "2          0                  46.0         8751711   \n",
      "3          0                   NaN       196439911   \n",
      "4          0                  47.0       161777584   \n",
      "\n",
      "                Vehicle Location  \\\n",
      "0  POINT (-122.132064 47.494834)   \n",
      "1  POINT (-122.024951 47.670286)   \n",
      "2  POINT (-122.303604 47.716244)   \n",
      "3  POINT (-117.261693 33.614732)   \n",
      "4  POINT (-122.148214 47.292978)   \n",
      "\n",
      "                                Electric Utility  \n",
      "0  PUGET SOUND ENERGY INC||CITY OF TACOMA - (WA)  \n",
      "1  PUGET SOUND ENERGY INC||CITY OF TACOMA - (WA)  \n",
      "2   CITY OF SEATTLE - (WA)|CITY OF TACOMA - (WA)  \n",
      "3                                            NaN  \n",
      "4  PUGET SOUND ENERGY INC||CITY OF TACOMA - (WA)  \n",
      "Data from excel_file.xlsx:\n",
      "                      Car full name  Make                        Model  \\\n",
      "0            Audi e-tron 55 quattro  Audi            e-tron 55 quattro   \n",
      "1            Audi e-tron 50 quattro  Audi            e-tron 50 quattro   \n",
      "2             Audi e-tron S quattro  Audi             e-tron S quattro   \n",
      "3  Audi e-tron Sportback 50 quattro  Audi  e-tron Sportback 50 quattro   \n",
      "4  Audi e-tron Sportback 55 quattro  Audi  e-tron Sportback 55 quattro   \n",
      "\n",
      "   Minimal price (gross) [PLN]  Engine power [KM]  Maximum torque [Nm]  \\\n",
      "0                       345700                360                  664   \n",
      "1                       308400                313                  540   \n",
      "2                       414900                503                  973   \n",
      "3                       319700                313                  540   \n",
      "4                       357000                360                  664   \n",
      "\n",
      "        Type of brakes Drive type  Battery capacity [kWh]  Range (WLTP) [km]  \\\n",
      "0  disc (front + rear)        4WD                    95.0                438   \n",
      "1  disc (front + rear)        4WD                    71.0                340   \n",
      "2  disc (front + rear)        4WD                    95.0                364   \n",
      "3  disc (front + rear)        4WD                    71.0                346   \n",
      "4  disc (front + rear)        4WD                    95.0                447   \n",
      "\n",
      "   ...  Permissable gross weight [kg]  Maximum load capacity [kg]  \\\n",
      "0  ...                         3130.0                       640.0   \n",
      "1  ...                         3040.0                       670.0   \n",
      "2  ...                         3130.0                       565.0   \n",
      "3  ...                         3040.0                       640.0   \n",
      "4  ...                         3130.0                       670.0   \n",
      "\n",
      "   Number of seats  Number of doors  Tire size [in]  Maximum speed [kph]  \\\n",
      "0                5                5              19                  200   \n",
      "1                5                5              19                  190   \n",
      "2                5                5              20                  210   \n",
      "3                5                5              19                  190   \n",
      "4                5                5              19                  200   \n",
      "\n",
      "   Boot capacity (VDA) [l]  Acceleration 0-100 kph [s]  \\\n",
      "0                    660.0                         5.7   \n",
      "1                    660.0                         6.8   \n",
      "2                    660.0                         4.5   \n",
      "3                    615.0                         6.8   \n",
      "4                    615.0                         5.7   \n",
      "\n",
      "   Maximum DC charging power [kW]  mean - Energy consumption [kWh/100 km]  \n",
      "0                             150                                   24.45  \n",
      "1                             150                                   23.80  \n",
      "2                             150                                   27.55  \n",
      "3                             150                                   23.30  \n",
      "4                             150                                   23.85  \n",
      "\n",
      "[5 rows x 25 columns]\n"
     ]
    }
   ],
   "source": [
    "import pandas as pd\n",
    "\n",
    "# List the files in the extracted directory\n",
    "files = os.listdir(\"cars_data\")\n",
    "print(\"Files in the dataset:\", files)\n",
    "\n",
    "# Load each CSV file into a pandas DataFrame\n",
    "df1 = pd.read_csv(\"cars_data/Cars 1.csv\")\n",
    "df2 = pd.read_csv(\"cars_data/cars.csv\")\n",
    "df3 = pd.read_csv(\"cars_data/Electric Car.csv\")\n",
    "df4 = pd.read_csv(\"cars_data/Electric Vehicle Population Data.csv\")\n",
    "\n",
    "# If there's an Excel file, load it as well\n",
    "excel_df = pd.read_excel(\"cars_data/FEV data.xlsx\")\n",
    "\n",
    "# Display the first few rows of each DataFrame to understand their structure\n",
    "print(\"Data from file1.csv:\")\n",
    "print(df1.head())\n",
    "\n",
    "print(\"Data from file2.csv:\")\n",
    "print(df2.head())\n",
    "\n",
    "print(\"Data from file3.csv:\")\n",
    "print(df3.head())\n",
    "\n",
    "print(\"Data from file4.csv:\")\n",
    "print(df4.head())\n",
    "\n",
    "print(\"Data from excel_file.xlsx:\")\n",
    "print(excel_df.head())\n"
   ]
  },
  {
   "cell_type": "markdown",
   "id": "875284b4-a6eb-4d96-9b0d-c56c0d45349a",
   "metadata": {},
   "source": [
    "Here, I handled **df2** by splitting its single column, which contained multiple attributes separated by semicolons, into separate columns. After splitting, I renamed the columns to make them more descriptive and easier to work with. Additionally, I printed the updated column names of all the datasets for verification."
   ]
  },
  {
   "cell_type": "code",
   "execution_count": 5,
   "id": "afd851d4-1cb5-4d88-b0dd-26f1f6248f5a",
   "metadata": {
    "scrolled": true
   },
   "outputs": [
    {
     "name": "stdout",
     "output_type": "stream",
     "text": [
      "Columns in df1: Index(['Dimensions.Height', 'Dimensions.Length', 'Dimensions.Width',\n",
      "       'Engine Information.Driveline', 'Engine Information.Engine Type',\n",
      "       'Engine Information.Hybrid',\n",
      "       'Engine Information.Number of Forward Gears',\n",
      "       'Engine Information.Transmission', 'Fuel Information.City mpg',\n",
      "       'Fuel Information.Fuel Type', 'Fuel Information.Highway mpg',\n",
      "       'Identification.Classification', 'Identification.ID',\n",
      "       'Identification.Make', 'Identification.Model Year',\n",
      "       'Identification.Year',\n",
      "       'Engine Information.Engine Statistics.Horsepower',\n",
      "       'Engine Information.Engine Statistics.Torque'],\n",
      "      dtype='object')\n",
      "Columns in df2: Index(['Car', 'MPG', 'Cylinders', 'Displacement', 'Horsepower', 'Weight',\n",
      "       'Acceleration', 'Model', 'Origin'],\n",
      "      dtype='object')\n",
      "Columns in df3: Index(['Brand', 'Model', 'AccelSec', 'TopSpeed_KmH', 'Range_Km',\n",
      "       'Efficiency_WhKm', 'FastCharge_KmH', 'RapidCharge', 'PowerTrain',\n",
      "       'PlugType', 'BodyStyle', 'Segment', 'Seats', 'PriceEuro'],\n",
      "      dtype='object')\n",
      "Columns in df4: Index(['VIN (1-10)', 'County', 'City', 'State', 'ZIP Code', 'Model Year',\n",
      "       'Make', 'Model', 'Electric Vehicle Type',\n",
      "       'Clean Alternative Fuel Vehicle (CAFV) Eligibility', 'Electric Range',\n",
      "       'Base MSRP', 'Legislative District', 'DOL Vehicle ID',\n",
      "       'Vehicle Location', 'Electric Utility'],\n",
      "      dtype='object')\n",
      "Columns in excel_df: Index(['Car full name', 'Make', 'Model', 'Minimal price (gross) [PLN]',\n",
      "       'Engine power [KM]', 'Maximum torque [Nm]', 'Type of brakes',\n",
      "       'Drive type', 'Battery capacity [kWh]', 'Range (WLTP) [km]',\n",
      "       'Wheelbase [cm]', 'Length [cm]', 'Width [cm]', 'Height [cm]',\n",
      "       'Minimal empty weight [kg]', 'Permissable gross weight [kg]',\n",
      "       'Maximum load capacity [kg]', 'Number of seats', 'Number of doors',\n",
      "       'Tire size [in]', 'Maximum speed [kph]', 'Boot capacity (VDA) [l]',\n",
      "       'Acceleration 0-100 kph [s]', 'Maximum DC charging power [kW]',\n",
      "       'mean - Energy consumption [kWh/100 km]'],\n",
      "      dtype='object')\n"
     ]
    }
   ],
   "source": [
    "# Cell 5: Process df2\n",
    "\n",
    "import pandas as pd\n",
    "import os\n",
    "\n",
    "# Load each CSV file into a pandas DataFrame\n",
    "df1 = pd.read_csv(\"cars_data/Cars 1.csv\")\n",
    "df2 = pd.read_csv(\"cars_data/cars.csv\")\n",
    "df3 = pd.read_csv(\"cars_data/Electric Car.csv\")\n",
    "df4 = pd.read_csv(\"cars_data/Electric Vehicle Population Data.csv\")\n",
    "\n",
    "# If there's an Excel file, load it as well\n",
    "excel_df = pd.read_excel(\"cars_data/FEV data.xlsx\")\n",
    "\n",
    "# Split the single column in df2 into separate columns\n",
    "df2_split = df2['Car;MPG;Cylinders;Displacement;Horsepower;Weight;Acceleration;Model;Origin'].str.split(';', expand=True)\n",
    "\n",
    "# Rename columns in df2\n",
    "df2_split.columns = ['Car', 'MPG', 'Cylinders', 'Displacement', 'Horsepower', 'Weight', 'Acceleration', 'Model', 'Origin']\n",
    "\n",
    "# Update df2 with the split and renamed columns\n",
    "df2 = df2_split\n",
    "\n",
    "# Display the updated column names of each DataFrame\n",
    "print(\"Columns in df1:\", df1.columns)\n",
    "print(\"Columns in df2:\", df2.columns)\n",
    "print(\"Columns in df3:\", df3.columns)\n",
    "print(\"Columns in df4:\", df4.columns)\n",
    "print(\"Columns in excel_df:\", excel_df.columns)\n"
   ]
  },
  {
   "cell_type": "markdown",
   "id": "f773f30b-daa1-41e9-b4c2-4eb879100f8b",
   "metadata": {},
   "source": [
    "I now have well-defined columns in each dataset for further analysis, making data handling easier. \n",
    "\n",
    "I standardized the column names across all the DataFrames by converting them to lowercase and replacing spaces with underscores. This helps maintain consistency and makes the columns easier to reference during analysis."
   ]
  },
  {
   "cell_type": "code",
   "execution_count": 6,
   "id": "6ab7a921-75b1-42bb-a4f6-740b7762e062",
   "metadata": {},
   "outputs": [
    {
     "name": "stdout",
     "output_type": "stream",
     "text": [
      "Columns in df1: Index(['dimensions.height', 'dimensions.length', 'dimensions.width',\n",
      "       'engine_information.driveline', 'engine_information.engine_type',\n",
      "       'engine_information.hybrid',\n",
      "       'engine_information.number_of_forward_gears',\n",
      "       'engine_information.transmission', 'fuel_information.city_mpg',\n",
      "       'fuel_information.fuel_type', 'fuel_information.highway_mpg',\n",
      "       'identification.classification', 'identification.id',\n",
      "       'identification.make', 'identification.model_year',\n",
      "       'identification.year',\n",
      "       'engine_information.engine_statistics.horsepower',\n",
      "       'engine_information.engine_statistics.torque'],\n",
      "      dtype='object')\n",
      "Columns in df2: Index(['car', 'mpg', 'cylinders', 'displacement', 'horsepower', 'weight',\n",
      "       'acceleration', 'model', 'origin'],\n",
      "      dtype='object')\n",
      "Columns in df3: Index(['brand', 'model', 'accelsec', 'topspeed_kmh', 'range_km',\n",
      "       'efficiency_whkm', 'fastcharge_kmh', 'rapidcharge', 'powertrain',\n",
      "       'plugtype', 'bodystyle', 'segment', 'seats', 'priceeuro'],\n",
      "      dtype='object')\n",
      "Columns in df4: Index(['vin_(1-10)', 'county', 'city', 'state', 'zip_code', 'model_year',\n",
      "       'make', 'model', 'electric_vehicle_type',\n",
      "       'clean_alternative_fuel_vehicle_(cafv)_eligibility', 'electric_range',\n",
      "       'base_msrp', 'legislative_district', 'dol_vehicle_id',\n",
      "       'vehicle_location', 'electric_utility'],\n",
      "      dtype='object')\n",
      "Columns in excel_df: Index(['car_full_name', 'make', 'model', 'minimal_price_(gross)_[pln]',\n",
      "       'engine_power_[km]', 'maximum_torque_[nm]', 'type_of_brakes',\n",
      "       'drive_type', 'battery_capacity_[kwh]', 'range_(wltp)_[km]',\n",
      "       'wheelbase_[cm]', 'length_[cm]', 'width_[cm]', 'height_[cm]',\n",
      "       'minimal_empty_weight_[kg]', 'permissable_gross_weight_[kg]',\n",
      "       'maximum_load_capacity_[kg]', 'number_of_seats', 'number_of_doors',\n",
      "       'tire_size_[in]', 'maximum_speed_[kph]', 'boot_capacity_(vda)_[l]',\n",
      "       'acceleration_0-100_kph_[s]', 'maximum_dc_charging_power_[kw]',\n",
      "       'mean_-_energy_consumption_[kwh/100_km]'],\n",
      "      dtype='object')\n"
     ]
    }
   ],
   "source": [
    "# Standardize column names\n",
    "df1.columns = df1.columns.str.lower().str.replace(' ', '_')\n",
    "df2.columns = df2.columns.str.lower().str.replace(';', '_').str.replace(' ', '_')\n",
    "df3.columns = df3.columns.str.lower().str.replace(' ', '_')\n",
    "df4.columns = df4.columns.str.lower().str.replace(' ', '_')\n",
    "excel_df.columns = excel_df.columns.str.lower().str.replace(' ', '_')\n",
    "\n",
    "# Display the updated column names\n",
    "print(\"Columns in df1:\", df1.columns)\n",
    "print(\"Columns in df2:\", df2.columns)\n",
    "print(\"Columns in df3:\", df3.columns)\n",
    "print(\"Columns in df4:\", df4.columns)\n",
    "print(\"Columns in excel_df:\", excel_df.columns)\n"
   ]
  },
  {
   "cell_type": "markdown",
   "id": "f9f9e5b7-8c79-4503-a252-e76970ef694a",
   "metadata": {},
   "source": [
    "The columns across all DataFrames now follow a consistent naming convention.\n",
    "\n",
    "In this cell, I calculated the cost per kilometer for electric vehicles in **df3** and **excel_df**. I used the efficiency in Wh/km and the electricity price (set at $0.12 per kWh) to compute the electric cost per km. This will allow me to compare the costs of running electric vehicles with traditional fuel-based cars."
   ]
  },
  {
   "cell_type": "code",
   "execution_count": 7,
   "id": "55551619-af6f-4b08-80b9-f952377afb3c",
   "metadata": {},
   "outputs": [
    {
     "name": "stdout",
     "output_type": "stream",
     "text": [
      "Electric cost per km in df3:\n",
      "           brand                            model  electric_cost_per_km\n",
      "0         Tesla     Model 3 Long Range Dual Motor               0.01932\n",
      "1    Volkswagen                         ID.3 Pure               0.02004\n",
      "2      Polestar                                 2               0.02172\n",
      "3           BMW                              iX3                0.02472\n",
      "4         Honda                                e                0.02016\n",
      "..           ...                              ...                   ...\n",
      "98       Nissan                       Ariya 63kWh               0.02292\n",
      "99         Audi     e-tron S Sportback 55 quattro               0.03096\n",
      "100      Nissan               Ariya e-4ORCE 63kWh               0.02328\n",
      "101      Nissan   Ariya e-4ORCE 87kWh Performance               0.02784\n",
      "102       Byton                 M-Byte 95 kWh 2WD               0.02856\n",
      "\n",
      "[103 rows x 3 columns]\n",
      "Electric cost per km in excel_df:\n",
      "             make                         model  electric_cost_per_km\n",
      "0            Audi             e-tron 55 quattro               0.02934\n",
      "1            Audi             e-tron 50 quattro               0.02856\n",
      "2            Audi              e-tron S quattro               0.03306\n",
      "3            Audi   e-tron Sportback 50 quattro               0.02796\n",
      "4            Audi   e-tron Sportback 55 quattro               0.02862\n",
      "5            Audi    e-tron Sportback S quattro               0.03264\n",
      "6             BMW                            i3               0.01572\n",
      "7             BMW                           i3s               0.01716\n",
      "8             BMW                           iX3               0.02256\n",
      "9         Citroën                          ë-C4                   NaN\n",
      "10             DS         DS3 Crossback e-tense               0.01872\n",
      "11          Honda                             e               0.02064\n",
      "12          Honda                     e Advance               0.02100\n",
      "13        Hyundai                Ioniq electric               0.01656\n",
      "14        Hyundai         Kona electric 39.2kWh               0.01800\n",
      "15        Hyundai           Kona electric 64kWh               0.01848\n",
      "16         Jaguar                        I-Pace               0.02544\n",
      "17            Kia                e-Niro 39.2kWh               0.01836\n",
      "18            Kia                  e-Niro 64kWh               0.01908\n",
      "19            Kia                e-Soul 39.2kWh               0.01872\n",
      "20            Kia                  e-Soul 64kWh               0.01884\n",
      "21          Mazda                         MX-30               0.01740\n",
      "22  Mercedes-Benz                           EQC               0.02622\n",
      "23           Mini                     Cooper SE               0.02010\n",
      "24         Nissan                          Leaf               0.02220\n",
      "25         Nissan                       Leaf e+               0.02052\n",
      "26           Opel                       Corsa-e               0.01998\n",
      "27           Opel                       Mokka-e               0.02112\n",
      "28        Peugeot                         e-208               0.01968\n",
      "29        Peugeot                        e-2008                   NaN\n",
      "30        Porsche       Taycan 4S (Performance)               0.02808\n",
      "31        Porsche  Taycan 4S (Performance Plus)               0.02892\n",
      "32        Porsche                  Taycan Turbo               0.02982\n",
      "33        Porsche                Taycan Turbo S               0.03012\n",
      "34        Renault                      Zoe R110               0.01980\n",
      "35        Renault                      Zoe R135               0.01980\n",
      "36          Skoda                   Citigo-e iV               0.01854\n",
      "37          Smart                     fortwo EQ               0.01962\n",
      "38          Smart                    forfour EQ               0.02040\n",
      "39          Tesla   Model 3 Standard Range Plus                   NaN\n",
      "40          Tesla            Model 3 Long Range                   NaN\n",
      "41          Tesla           Model 3 Performance                   NaN\n",
      "42          Tesla       Model S Long Range Plus                   NaN\n",
      "43          Tesla           Model S Performance                   NaN\n",
      "44          Tesla       Model X Long Range Plus                   NaN\n",
      "45          Tesla           Model X Performance                   NaN\n",
      "46     Volkswagen                         e-up!               0.01680\n",
      "47     Volkswagen          ID.3 Pro Performance               0.01848\n",
      "48     Volkswagen                    ID.3 Pro S               0.01908\n",
      "49     Volkswagen                      ID.4 1st               0.02160\n",
      "50        Citroën             ë-Spacetourer (M)               0.03024\n",
      "51  Mercedes-Benz                    EQV (long)               0.03384\n",
      "52         Nissan                e-NV200 evalia               0.03108\n"
     ]
    }
   ],
   "source": [
    "# Define the electricity price per kWh (for example, $0.12 per kWh)\n",
    "electricity_price_per_kwh = 0.12\n",
    "\n",
    "# Calculate the cost of electricity for electric vehicles in df3\n",
    "df3['electric_cost_per_km'] = df3['efficiency_whkm'] / 1000 * electricity_price_per_kwh\n",
    "\n",
    "# For `excel_df`, convert energy consumption to kWh/100 km (if needed) and calculate cost\n",
    "excel_df['energy_consumption_kwh_per_100km'] = excel_df['mean_-_energy_consumption_[kwh/100_km]']\n",
    "excel_df['electric_cost_per_km'] = excel_df['energy_consumption_kwh_per_100km'] / 100 * electricity_price_per_kwh\n",
    "\n",
    "# Display the cost calculations\n",
    "print(\"Electric cost per km in df3:\")\n",
    "print(df3[['brand', 'model', 'electric_cost_per_km']])\n",
    "\n",
    "print(\"Electric cost per km in excel_df:\")\n",
    "print(excel_df[['make', 'model', 'electric_cost_per_km']])\n"
   ]
  },
  {
   "cell_type": "markdown",
   "id": "c138e3a2-60bf-458d-9e3c-67f8f8119321",
   "metadata": {},
   "source": [
    "I successfully calculated the electric cost per kilometer for both datasets and can now use this data for comparisons.\n",
    "\n",
    "Here, I printed the columns of **df1** to verify that they had been standardized properly."
   ]
  },
  {
   "cell_type": "code",
   "execution_count": 8,
   "id": "f64615f4-fd22-45ca-938f-8d18782130ac",
   "metadata": {},
   "outputs": [
    {
     "name": "stdout",
     "output_type": "stream",
     "text": [
      "Index(['dimensions.height', 'dimensions.length', 'dimensions.width',\n",
      "       'engine_information.driveline', 'engine_information.engine_type',\n",
      "       'engine_information.hybrid',\n",
      "       'engine_information.number_of_forward_gears',\n",
      "       'engine_information.transmission', 'fuel_information.city_mpg',\n",
      "       'fuel_information.fuel_type', 'fuel_information.highway_mpg',\n",
      "       'identification.classification', 'identification.id',\n",
      "       'identification.make', 'identification.model_year',\n",
      "       'identification.year',\n",
      "       'engine_information.engine_statistics.horsepower',\n",
      "       'engine_information.engine_statistics.torque'],\n",
      "      dtype='object')\n"
     ]
    }
   ],
   "source": [
    "print(df1.columns)\n"
   ]
  },
  {
   "cell_type": "markdown",
   "id": "a179cba1-a215-4467-905f-4fdbb2243741",
   "metadata": {},
   "source": [
    "I computed the fuel cost per kilometer for conventional vehicles based on **city and highway MPG** in **df1 and df2**. Using the **fuel price** (set at $3.50 per gallon), I converted the **fuel efficiency** from MPG to cost per kilometer. This calculation will later allow a comparison between fuel and electric costs.\n"
   ]
  },
  {
   "cell_type": "code",
   "execution_count": 9,
   "id": "639220f1-6969-4f4c-9201-938cc8d8f474",
   "metadata": {},
   "outputs": [
    {
     "name": "stdout",
     "output_type": "stream",
     "text": [
      "Fuel cost per km in df1 (city):\n",
      "     identification.make         identification.model_year  \\\n",
      "0                   Audi                      2009 Audi A3   \n",
      "1                   Audi                      2009 Audi A3   \n",
      "2                   Audi                      2009 Audi A3   \n",
      "3                   Audi                      2009 Audi A3   \n",
      "4                   Audi                      2009 Audi A3   \n",
      "...                  ...                               ...   \n",
      "5071               Honda                  2012 Honda Pilot   \n",
      "5072         Lamborghini    2012 Lamborghini Gallardo Coup   \n",
      "5073         Lamborghini  2012 Lamborghini Gallardo Spyder   \n",
      "5074                 BMW                 2012 BMW 7 Series   \n",
      "5075                 BMW                 2012 BMW 7 Series   \n",
      "\n",
      "      fuel_cost_per_km_city  \n",
      "0                  0.120822  \n",
      "1                  0.098854  \n",
      "2                  0.103562  \n",
      "3                  0.103562  \n",
      "4                  0.103562  \n",
      "...                     ...  \n",
      "5071               0.120822  \n",
      "5072               0.181233  \n",
      "5073               0.181233  \n",
      "5074               0.127929  \n",
      "5075               0.127929  \n",
      "\n",
      "[5076 rows x 3 columns]\n",
      "Fuel cost per km in df1 (highway):\n",
      "     identification.make         identification.model_year  \\\n",
      "0                   Audi                      2009 Audi A3   \n",
      "1                   Audi                      2009 Audi A3   \n",
      "2                   Audi                      2009 Audi A3   \n",
      "3                   Audi                      2009 Audi A3   \n",
      "4                   Audi                      2009 Audi A3   \n",
      "...                  ...                               ...   \n",
      "5071               Honda                  2012 Honda Pilot   \n",
      "5072         Lamborghini    2012 Lamborghini Gallardo Coup   \n",
      "5073         Lamborghini  2012 Lamborghini Gallardo Spyder   \n",
      "5074                 BMW                 2012 BMW 7 Series   \n",
      "5075                 BMW                 2012 BMW 7 Series   \n",
      "\n",
      "      fuel_cost_per_km_highway  \n",
      "0                     0.086992  \n",
      "1                     0.077671  \n",
      "2                     0.072493  \n",
      "3                     0.077671  \n",
      "4                     0.077671  \n",
      "...                        ...  \n",
      "5071                  0.086992  \n",
      "5072                  0.108740  \n",
      "5073                  0.108740  \n",
      "5074                  0.086992  \n",
      "5075                  0.086992  \n",
      "\n",
      "[5076 rows x 3 columns]\n",
      "Fuel cost per km in df2:\n",
      "                           car  fuel_cost_per_km\n",
      "0                       STRING               NaN\n",
      "1    Chevrolet Chevelle Malibu          0.120822\n",
      "2            Buick Skylark 320          0.144987\n",
      "3           Plymouth Satellite          0.120822\n",
      "4                AMC Rebel SST          0.135925\n",
      "..                         ...               ...\n",
      "402            Ford Mustang GL          0.080548\n",
      "403          Volkswagen Pickup          0.049427\n",
      "404              Dodge Rampage          0.067962\n",
      "405                Ford Ranger          0.077671\n",
      "406                 Chevy S-10          0.070155\n",
      "\n",
      "[407 rows x 2 columns]\n"
     ]
    }
   ],
   "source": [
    "# Define the fuel price per gallon (for example, $3.50 per gallon)\n",
    "fuel_price_per_gallon = 3.50\n",
    "\n",
    "# Convert relevant columns to numeric, forcing errors to NaN\n",
    "df1['fuel_information.city_mpg'] = pd.to_numeric(df1['fuel_information.city_mpg'], errors='coerce')\n",
    "df1['fuel_information.highway_mpg'] = pd.to_numeric(df1['fuel_information.highway_mpg'], errors='coerce')\n",
    "\n",
    "df2['mpg'] = pd.to_numeric(df2['mpg'], errors='coerce')\n",
    "\n",
    "# Convert MPG to fuel cost per km\n",
    "# There are approximately 0.621371 miles in a kilometer\n",
    "df1['fuel_cost_per_km_city'] = (1 / df1['fuel_information.city_mpg']) * 0.621371 * fuel_price_per_gallon\n",
    "df1['fuel_cost_per_km_highway'] = (1 / df1['fuel_information.highway_mpg']) * 0.621371 * fuel_price_per_gallon\n",
    "\n",
    "# For `df2`, similar calculations\n",
    "df2['fuel_cost_per_km'] = (1 / df2['mpg']) * 0.621371 * fuel_price_per_gallon\n",
    "\n",
    "# Display the cost calculations\n",
    "print(\"Fuel cost per km in df1 (city):\")\n",
    "print(df1[['identification.make', 'identification.model_year', 'fuel_cost_per_km_city']])\n",
    "\n",
    "print(\"Fuel cost per km in df1 (highway):\")\n",
    "print(df1[['identification.make', 'identification.model_year', 'fuel_cost_per_km_highway']])\n",
    "\n",
    "print(\"Fuel cost per km in df2:\")\n",
    "print(df2[['car', 'fuel_cost_per_km']])\n"
   ]
  },
  {
   "cell_type": "markdown",
   "id": "10032919-cd25-476f-9ff5-24cb94331dd4",
   "metadata": {},
   "source": [
    " I computed the fuel cost for both city and highway driving, which provides insights into how conventional cars compare in terms of running costs.\n",
    "\n",
    " In the next step, I calculated the average cost per kilometer for both electric and conventional cars. This gives me a summary of running costs for **electric vehicles** **(df3 and excel_df)** and for **fuel-powered vehicles** **(df1 and df2)**."
   ]
  },
  {
   "cell_type": "code",
   "execution_count": 10,
   "id": "de450032-c349-4821-9b20-ef7afcf1b862",
   "metadata": {},
   "outputs": [
    {
     "name": "stdout",
     "output_type": "stream",
     "text": [
      "Average electric cost per km in df3: 0.02270\n",
      "Average electric cost per km in excel_df: 0.02279\n",
      "Average fuel cost per km (city) in df1: 0.13492\n",
      "Average fuel cost per km (highway) in df1: 0.09617\n",
      "Average fuel cost per km in df2: inf\n"
     ]
    }
   ],
   "source": [
    "import pandas as pd\n",
    "\n",
    "# Assuming df3 and excel_df are DataFrames for electric costs, and df1 and df2 are for fuel costs\n",
    "\n",
    "# Calculate average electric cost per km from df3 and excel_df\n",
    "average_electric_cost_df3 = df3['electric_cost_per_km'].mean()\n",
    "average_electric_cost_excel_df = excel_df['electric_cost_per_km'].dropna().mean()\n",
    "\n",
    "# Calculate average fuel cost per km for city and highway from df1\n",
    "average_fuel_cost_city = df1['fuel_cost_per_km_city'].dropna().mean()\n",
    "average_fuel_cost_highway = df1['fuel_cost_per_km_highway'].dropna().mean()\n",
    "\n",
    "# Calculate average fuel cost per km from df2\n",
    "average_fuel_cost_df2 = df2['fuel_cost_per_km'].dropna().mean()\n",
    "\n",
    "# Print the averages\n",
    "print(f\"Average electric cost per km in df3: {average_electric_cost_df3:.5f}\")\n",
    "print(f\"Average electric cost per km in excel_df: {average_electric_cost_excel_df:.5f}\")\n",
    "print(f\"Average fuel cost per km (city) in df1: {average_fuel_cost_city:.5f}\")\n",
    "print(f\"Average fuel cost per km (highway) in df1: {average_fuel_cost_highway:.5f}\")\n",
    "print(f\"Average fuel cost per km in df2: {average_fuel_cost_df2:.5f}\")\n"
   ]
  },
  {
   "cell_type": "markdown",
   "id": "c08d6067-8088-4192-82fc-6d2534d0da9e",
   "metadata": {},
   "source": [
    "I created a bar chart to visually compare the average cost per kilometer for electric and fuel-powered vehicles. This visualization makes it easier to compare running costs between vehicle types."
   ]
  },
  {
   "cell_type": "code",
   "execution_count": 11,
   "id": "87507a76-d121-4fdb-a560-e471a9a73bdf",
   "metadata": {},
   "outputs": [
    {
     "data": {
      "image/png": "[encoded data removed]",
      "text/plain": [
       "<Figure size 1000x600 with 1 Axes>"
      ]
     },
     "metadata": {},
     "output_type": "display_data"
    }
   ],
   "source": [
    "import matplotlib.pyplot as plt\n",
    "\n",
    "# Data for plotting\n",
    "labels = ['Electric Cost (df3)', 'Electric Cost (excel_df)', 'Fuel Cost (city)', 'Fuel Cost (highway)', 'Fuel Cost (df2)']\n",
    "values = [average_electric_cost_df3, average_electric_cost_excel_df, average_fuel_cost_city, average_fuel_cost_highway, average_fuel_cost_df2]\n",
    "\n",
    "# Plotting\n",
    "plt.figure(figsize=(10, 6))\n",
    "plt.bar(labels, values, color=['blue', 'green', 'red', 'purple', 'orange'])\n",
    "plt.ylabel('Cost per km ($)')\n",
    "plt.title('Comparison of Electric and Fuel Costs per Kilometer')\n",
    "plt.xticks(rotation=45, ha='right')\n",
    "plt.tight_layout()\n",
    "plt.show()\n"
   ]
  },
  {
   "cell_type": "markdown",
   "id": "66a7e8a0-e0ad-4c47-8d01-135342ae1695",
   "metadata": {},
   "source": [
    "Clearly, electric vehicles have a significantly lower cost per kilometer compared to fuel-powered cars.\n",
    "\n",
    "Here, I extracted energy consumption data (Wh/km) for electric vehicles from **df3** to analyze the energy efficiency of EVs."
   ]
  },
  {
   "cell_type": "code",
   "execution_count": 24,
   "id": "5e387d93-ced3-4e5d-81b7-93842423ee47",
   "metadata": {},
   "outputs": [],
   "source": [
    "# Energy consumption per km\n",
    "energy_consumption_ev = df3[['brand', 'model', 'efficiency_whkm']].dropna()\n",
    "\n"
   ]
  },
  {
   "cell_type": "markdown",
   "id": "b3db986e-6e61-45e8-801d-4e60a9a20b09",
   "metadata": {},
   "source": [
    "In this cell, I extracted the fuel efficiency data for conventional cars in terms of miles per gallon (MPG) from **df1**. This data will later help in efficiency comparisons.\n",
    "\n"
   ]
  },
  {
   "cell_type": "code",
   "execution_count": 25,
   "id": "3655e326-ee82-4d65-b14a-3f684a1b2a7e",
   "metadata": {},
   "outputs": [],
   "source": [
    "# Fuel efficiency in terms of distance per liter\n",
    "fuel_efficiency_conventional = df1[['identification.make', 'identification.model_year', 'fuel_information.city_mpg', 'fuel_information.highway_mpg']].dropna()\n"
   ]
  },
  {
   "cell_type": "markdown",
   "id": "3b34155c-0e7f-4e84-af3a-781605336354",
   "metadata": {},
   "source": [
    "I calculated the average energy efficiency of electric vehicles based on their Wh/km values. This metric provides insights into how much energy an EV consumes per kilometer."
   ]
  },
  {
   "cell_type": "code",
   "execution_count": 26,
   "id": "4179de19-f754-4a03-a04b-13719ac596b5",
   "metadata": {},
   "outputs": [
    {
     "name": "stdout",
     "output_type": "stream",
     "text": [
      "The average efficiency of EVs is 189.17 Wh/km\n"
     ]
    }
   ],
   "source": [
    "# Calculate the average efficiency of EVs (in Wh/km)\n",
    "average_efficiency_ev = energy_consumption_ev['efficiency_whkm'].mean()\n",
    "\n",
    "# Print the average efficiency\n",
    "print(f\"The average efficiency of EVs is {average_efficiency_ev:.2f} Wh/km\")\n"
   ]
  },
  {
   "cell_type": "markdown",
   "id": "5031229f-c718-4d44-8887-c72c97b8f717",
   "metadata": {},
   "source": [
    "Here, I calculated the average city fuel efficiency for conventional cars. This value will later be compared with highway fuel efficiency and electric vehicle efficiency."
   ]
  },
  {
   "cell_type": "code",
   "execution_count": 27,
   "id": "7d6d0f82-00bb-49cb-9773-e4c9796e32fc",
   "metadata": {},
   "outputs": [
    {
     "name": "stdout",
     "output_type": "stream",
     "text": [
      "The average city fuel efficiency is 17.28 miles per gallon\n"
     ]
    }
   ],
   "source": [
    "# Calculate the average city MPG\n",
    "average_city_mpg = fuel_efficiency_conventional['fuel_information.city_mpg'].mean()\n",
    "\n",
    "# Print the average city MPG\n",
    "print(f\"The average city fuel efficiency is {average_city_mpg:.2f} miles per gallon\")\n"
   ]
  },
  {
   "cell_type": "markdown",
   "id": "09e2de5e-f23f-47a5-bb6a-6acdb5772782",
   "metadata": {},
   "source": [
    "I calculated the average highway fuel efficiency of conventional cars to compare it against city fuel efficiency and EV energy consumption."
   ]
  },
  {
   "cell_type": "code",
   "execution_count": 28,
   "id": "aa0206a4-3a51-4744-9863-b04458b209f6",
   "metadata": {},
   "outputs": [
    {
     "name": "stdout",
     "output_type": "stream",
     "text": [
      "The average highway fuel efficiency is 24.13 miles per gallon\n"
     ]
    }
   ],
   "source": [
    "# Calculate the average highway MPG\n",
    "average_highway_mpg = fuel_efficiency_conventional['fuel_information.highway_mpg'].mean()\n",
    "\n",
    "# Print the average highway MPG\n",
    "print(f\"The average highway fuel efficiency is {average_highway_mpg:.2f} miles per gallon\")\n"
   ]
  },
  {
   "cell_type": "markdown",
   "id": "aaace7fa-bbce-440e-b717-ebe1a7bc73f6",
   "metadata": {},
   "source": [
    "I calculated the combined fuel efficiency as the average of city and highway MPG. This gives a general sense of how efficient conventional cars are across different driving conditions."
   ]
  },
  {
   "cell_type": "code",
   "execution_count": 29,
   "id": "fb9b3e44-029b-4fab-b806-0317dea898e8",
   "metadata": {},
   "outputs": [
    {
     "name": "stdout",
     "output_type": "stream",
     "text": [
      "The combined fuel efficiency is 20.70 miles per gallon\n"
     ]
    }
   ],
   "source": [
    "# Calculate the combined MPG as a simple average of city and highway MPG\n",
    "combined_mpg = (average_city_mpg + average_highway_mpg) / 2\n",
    "\n",
    "# Print the combined MPG\n",
    "print(f\"The combined fuel efficiency is {combined_mpg:.2f} miles per gallon\")\n"
   ]
  },
  {
   "cell_type": "markdown",
   "id": "fc434f12-735d-4d59-b291-e1889f5eb5fe",
   "metadata": {},
   "source": [
    "I converted the fuel efficiency of a conventional car from MPG to Wh/km, allowing a direct comparison of energy consumption between electric and conventional vehicles."
   ]
  },
  {
   "cell_type": "code",
   "execution_count": 32,
   "id": "c5638895-401e-4ff4-b650-e6227c5980cf",
   "metadata": {},
   "outputs": [
    {
     "name": "stdout",
     "output_type": "stream",
     "text": [
      "The fuel efficiency of 20.7 MPG is equivalent to 3829.35 Wh/km. Therefore, the efficiency of conventional cars is 3829.35 Wh/km\n"
     ]
    }
   ],
   "source": [
    "# Given fuel efficiency in MPG\n",
    "mpg = 20.70\n",
    "\n",
    "# Step 1: Convert MPG to L/100km\n",
    "l_per_100km = 235.215 / mpg\n",
    "\n",
    "# Step 2: Convert L/100km to Wh/km\n",
    "wh_per_km = (l_per_100km * 33.7 * 1000) / 100\n",
    "\n",
    "# Print the result\n",
    "print(f\"The fuel efficiency of {mpg} MPG is equivalent to {wh_per_km:.2f} Wh/km. Therefore, the efficiency of conventional cars is {wh_per_km:.2f} Wh/km\")\n"
   ]
  },
  {
   "cell_type": "markdown",
   "id": "d8772192-9f12-4fab-8c68-cfac32eaae81",
   "metadata": {},
   "source": [
    "The fuel efficiency of 20.70 MPG is equivalent to 3829.35 Wh/km, highlighting that conventional cars consume significantly more energy per kilometer compared to electric vehicles.\n",
    "\n",
    "Lastly, I created a bar chart comparing the energy consumption of electric vehicles and conventional cars. This visualization shows that EVs are far more energy-efficient."
   ]
  },
  {
   "cell_type": "code",
   "execution_count": 33,
   "id": "a45e6a00-d1b9-4718-95a9-c84e3e84d8bd",
   "metadata": {},
   "outputs": [
    {
     "data": {
      "image/png": "[encoded data removed]",
      "text/plain": [
       "<Figure size 1000x600 with 1 Axes>"
      ]
     },
     "metadata": {},
     "output_type": "display_data"
    }
   ],
   "source": [
    "import matplotlib.pyplot as plt\n",
    "\n",
    "# Values for comparison\n",
    "average_efficiency_ev = 189.17  # in Wh/km\n",
    "wh_per_km = 1626.04  # replace with the actual Wh/km value for conventional cars\n",
    "\n",
    "# Labels and values for the bar chart\n",
    "labels = ['Electric Vehicles', 'Conventional Cars']\n",
    "values = [average_efficiency_ev, wh_per_km]\n",
    "\n",
    "# Create the bar chart\n",
    "plt.figure(figsize=(10, 6))\n",
    "plt.bar(labels, values, color=['blue', 'orange'])\n",
    "\n",
    "# Add title and labels\n",
    "plt.title('Comparison of Average Efficiency (Wh/km)')\n",
    "plt.ylabel('Energy Consumption (Wh/km)')\n",
    "plt.xlabel('Vehicle Type')\n",
    "\n",
    "# Display the values on top of the bars\n",
    "for i, v in enumerate(values):\n",
    "    plt.text(i, v + 50, f\"{v:.2f} Wh/km\", ha='center', fontweight='bold')\n",
    "\n",
    "# Show the plot\n",
    "plt.show()\n"
   ]
  },
  {
   "cell_type": "markdown",
   "id": "60499466-bed6-4c2f-b5f6-4e777e7cb7c4",
   "metadata": {},
   "source": [
    "This stark difference in the energy consumption as can be seen from the above graph indicates that EVs are much more energy-efficient than fuel-powered vehicles. Thus, it can be inferred that EVs can prove much more beneficial to the economy in the long run as compared to conventional vehicle. This analysis empahasizes to use EVs not only for the benefit of environment, but for the economy as well."
   ]
  },
  {
   "cell_type": "code",
   "execution_count": null,
   "id": "7a028034-e056-49cc-996b-afae1a690d19",
   "metadata": {},
   "outputs": [],
   "source": []
  }
 ],
 "metadata": {
  "kernelspec": {
   "display_name": "Python 3 (ipykernel)",
   "language": "python",
   "name": "python3"
  },
  "language_info": {
   "codemirror_mode": {
    "name": "ipython",
    "version": 3
   },
   "file_extension": ".py",
   "mimetype": "text/x-python",
   "name": "python",
   "nbconvert_exporter": "python",
   "pygments_lexer": "ipython3",
   "version": "3.10.14"
  }
 },
 "nbformat": 4,
 "nbformat_minor": 5
}
